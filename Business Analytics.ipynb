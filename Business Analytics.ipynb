{
 "cells": [
  {
   "cell_type": "code",
   "execution_count": 27,
   "id": "18002192-cc43-4c5d-99d2-b2c5724403ef",
   "metadata": {},
   "outputs": [],
   "source": [
    "import pandas as pd\n",
    "import matplotlib.pyplot as plt\n",
    "import seaborn as sns\n",
    "import numpy as np\n",
    "import textwrap\n",
    "import pyodbc"
   ]
  },
  {
   "cell_type": "code",
   "execution_count": 28,
   "id": "ec01675c-cca8-4b85-810e-19f6255d9d68",
   "metadata": {
    "tags": []
   },
   "outputs": [],
   "source": [
    "server = \"localhost\"\n",
    "database = \"Spr_2024\"\n",
    "username = \"omarmartinez66\"\n",
    "password = \"CCny24081166\"\n",
    "\n",
    "cnxn = pyodbc.connect(\n",
    "        \"DRIVER={ODBC Driver 17 for SQL Server}; SERVER=\" \n",
    "        \n",
    "    + server\n",
    "    + \";DATABASE=\"\n",
    "    + database\n",
    "    + \";UID=\"\n",
    "    + username\n",
    "    + \";PWD=\"\n",
    "    + password\n",
    ")\n",
    "\n",
    "#cnxn.autocommit = True"
   ]
  },
  {
   "cell_type": "code",
   "execution_count": 29,
   "id": "19bcaedd-da2a-4de6-b907-2cd65d7eb0b9",
   "metadata": {},
   "outputs": [],
   "source": [
    "cur = cnxn.cursor"
   ]
  },
  {
   "cell_type": "code",
   "execution_count": 30,
   "id": "db7b292a-9a21-4cb5-9f92-a081c3f6dcdb",
   "metadata": {},
   "outputs": [],
   "source": [
    "sql_query = \"\"\"SELECT [dbo].[OrderData].Order_Id, ROUND(Order_Profit_Per_Order,1) AS Order_Profit_Per_Order, \n",
    "ROUND(Order_Item_Profit_Ratio,1) AS Order_Item_Profit_Ratio, Order_Item_Quantity, ROUND(Order_Item_Total,1) AS Order_Item_Total, \n",
    "Delivery_Status, Shipping_Mode, [dbo].[ShippingData].Order_Id\n",
    "FROM [dbo].[OrderData] LEFT JOIN [dbo].[ShippingData]\n",
    "ON [dbo].[OrderData].Order_Id = [dbo].[ShippingData].Order_Id\"\"\""
   ]
  },
  {
   "cell_type": "code",
   "execution_count": 31,
   "id": "3a4b3ba0-4a64-404b-bfec-95d67ab5cf7e",
   "metadata": {},
   "outputs": [
    {
     "data": {
      "text/plain": [
       "'SELECT [dbo].[OrderData].Order_Id, ROUND(Order_Profit_Per_Order,1) AS Order_Profit_Per_Order, \\nROUND(Order_Item_Profit_Ratio,1) AS Order_Item_Profit_Ratio, Order_Item_Quantity, ROUND(Order_Item_Total,1) AS Order_Item_Total, \\nDelivery_Status, Shipping_Mode, [dbo].[ShippingData].Order_Id\\nFROM [dbo].[OrderData] LEFT JOIN [dbo].[ShippingData]\\nON [dbo].[OrderData].Order_Id = [dbo].[ShippingData].Order_Id'"
      ]
     },
     "execution_count": 31,
     "metadata": {},
     "output_type": "execute_result"
    }
   ],
   "source": [
    "sql_query"
   ]
  },
  {
   "cell_type": "code",
   "execution_count": 32,
   "id": "177f8bc6-d5bf-474d-b355-6cf84271f56b",
   "metadata": {},
   "outputs": [
    {
     "data": {
      "text/plain": [
       "<function Connection.close>"
      ]
     },
     "execution_count": 32,
     "metadata": {},
     "output_type": "execute_result"
    }
   ],
   "source": [
    "data = pd.read_sql(sql=sql_query, con=cnxn)\n",
    "cnxn.close"
   ]
  },
  {
   "cell_type": "code",
   "execution_count": 33,
   "id": "6ae1c5a0-1781-4338-b562-f51725e5ce51",
   "metadata": {},
   "outputs": [
    {
     "data": {
      "text/html": [
       "<div>\n",
       "<style scoped>\n",
       "    .dataframe tbody tr th:only-of-type {\n",
       "        vertical-align: middle;\n",
       "    }\n",
       "\n",
       "    .dataframe tbody tr th {\n",
       "        vertical-align: top;\n",
       "    }\n",
       "\n",
       "    .dataframe thead th {\n",
       "        text-align: right;\n",
       "    }\n",
       "</style>\n",
       "<table border=\"1\" class=\"dataframe\">\n",
       "  <thead>\n",
       "    <tr style=\"text-align: right;\">\n",
       "      <th></th>\n",
       "      <th>Order_Id</th>\n",
       "      <th>Order_Profit_Per_Order</th>\n",
       "      <th>Order_Item_Profit_Ratio</th>\n",
       "      <th>Order_Item_Quantity</th>\n",
       "      <th>Order_Item_Total</th>\n",
       "      <th>Delivery_Status</th>\n",
       "      <th>Shipping_Mode</th>\n",
       "      <th>Order_Id</th>\n",
       "    </tr>\n",
       "  </thead>\n",
       "  <tbody>\n",
       "    <tr>\n",
       "      <th>0</th>\n",
       "      <td>75913</td>\n",
       "      <td>82.6</td>\n",
       "      <td>0.3</td>\n",
       "      <td>1</td>\n",
       "      <td>275.3</td>\n",
       "      <td>Shipping on time</td>\n",
       "      <td>Standard Class</td>\n",
       "      <td>75913</td>\n",
       "    </tr>\n",
       "    <tr>\n",
       "      <th>1</th>\n",
       "      <td>75927</td>\n",
       "      <td>24.6</td>\n",
       "      <td>0.1</td>\n",
       "      <td>1</td>\n",
       "      <td>245.8</td>\n",
       "      <td>Late delivery</td>\n",
       "      <td>First Class</td>\n",
       "      <td>75927</td>\n",
       "    </tr>\n",
       "    <tr>\n",
       "      <th>2</th>\n",
       "      <td>75935</td>\n",
       "      <td>18.6</td>\n",
       "      <td>0.1</td>\n",
       "      <td>1</td>\n",
       "      <td>295.0</td>\n",
       "      <td>Shipping canceled</td>\n",
       "      <td>Standard Class</td>\n",
       "      <td>75935</td>\n",
       "    </tr>\n",
       "    <tr>\n",
       "      <th>3</th>\n",
       "      <td>77202</td>\n",
       "      <td>91.3</td>\n",
       "      <td>0.3</td>\n",
       "      <td>1</td>\n",
       "      <td>314.6</td>\n",
       "      <td>Advance shipping</td>\n",
       "      <td>Standard Class</td>\n",
       "      <td>77202</td>\n",
       "    </tr>\n",
       "    <tr>\n",
       "      <th>4</th>\n",
       "      <td>75932</td>\n",
       "      <td>133.7</td>\n",
       "      <td>0.5</td>\n",
       "      <td>1</td>\n",
       "      <td>278.6</td>\n",
       "      <td>Late delivery</td>\n",
       "      <td>Second Class</td>\n",
       "      <td>75932</td>\n",
       "    </tr>\n",
       "  </tbody>\n",
       "</table>\n",
       "</div>"
      ],
      "text/plain": [
       "  Order_Id  Order_Profit_Per_Order  Order_Item_Profit_Ratio  \\\n",
       "0    75913                    82.6                      0.3   \n",
       "1    75927                    24.6                      0.1   \n",
       "2    75935                    18.6                      0.1   \n",
       "3    77202                    91.3                      0.3   \n",
       "4    75932                   133.7                      0.5   \n",
       "\n",
       "  Order_Item_Quantity  Order_Item_Total    Delivery_Status   Shipping_Mode  \\\n",
       "0                   1             275.3   Shipping on time  Standard Class   \n",
       "1                   1             245.8      Late delivery     First Class   \n",
       "2                   1             295.0  Shipping canceled  Standard Class   \n",
       "3                   1             314.6   Advance shipping  Standard Class   \n",
       "4                   1             278.6      Late delivery    Second Class   \n",
       "\n",
       "  Order_Id  \n",
       "0    75913  \n",
       "1    75927  \n",
       "2    75935  \n",
       "3    77202  \n",
       "4    75932  "
      ]
     },
     "execution_count": 33,
     "metadata": {},
     "output_type": "execute_result"
    }
   ],
   "source": [
    "data.head()"
   ]
  },
  {
   "cell_type": "code",
   "execution_count": 34,
   "id": "b6f2cc59-8436-448b-af30-d78232a67fe8",
   "metadata": {},
   "outputs": [
    {
     "data": {
      "text/plain": [
       "Order_Id                    object\n",
       "Order_Profit_Per_Order     float64\n",
       "Order_Item_Profit_Ratio    float64\n",
       "Order_Item_Quantity         object\n",
       "Order_Item_Total           float64\n",
       "Delivery_Status             object\n",
       "Shipping_Mode               object\n",
       "Order_Id                    object\n",
       "dtype: object"
      ]
     },
     "execution_count": 34,
     "metadata": {},
     "output_type": "execute_result"
    }
   ],
   "source": [
    "data.dtypes"
   ]
  },
  {
   "cell_type": "code",
   "execution_count": 35,
   "id": "7563f5fc-6b73-46b1-8749-a62298d36f04",
   "metadata": {},
   "outputs": [
    {
     "data": {
      "text/plain": [
       "<AxesSubplot:xlabel='Delivery_Status'>"
      ]
     },
     "execution_count": 35,
     "metadata": {},
     "output_type": "execute_result"
    },
    {
     "data": {
      "image/png": "[encoded data removed]",
      "text/plain": [
       "<Figure size 432x288 with 1 Axes>"
      ]
     },
     "metadata": {
      "needs_background": "light"
     },
     "output_type": "display_data"
    }
   ],
   "source": [
    "data.groupby('Delivery_Status')['Order_Item_Total'].mean().plot(kind = 'bar')"
   ]
  },
  {
   "cell_type": "code",
   "execution_count": 36,
   "id": "55932db9-56ee-4507-b429-69e3e735433b",
   "metadata": {},
   "outputs": [
    {
     "data": {
      "text/plain": [
       "<AxesSubplot:xlabel='Shipping_Mode'>"
      ]
     },
     "execution_count": 36,
     "metadata": {},
     "output_type": "execute_result"
    },
    {
     "data": {
      "image/png": "[encoded data removed]",
      "text/plain": [
       "<Figure size 432x288 with 1 Axes>"
      ]
     },
     "metadata": {
      "needs_background": "light"
     },
     "output_type": "display_data"
    }
   ],
   "source": [
    "data.groupby('Shipping_Mode')['Order_Item_Total'].mean().plot(kind = 'bar')"
   ]
  },
  {
   "cell_type": "code",
   "execution_count": 37,
   "id": "2c3f4472-f16a-4f21-ab69-ed2a59fe8729",
   "metadata": {},
   "outputs": [
    {
     "data": {
      "text/plain": [
       "<AxesSubplot:xlabel='Order_Item_Quantity'>"
      ]
     },
     "execution_count": 37,
     "metadata": {},
     "output_type": "execute_result"
    },
    {
     "data": {
      "image/png": "[encoded data removed]",
      "text/plain": [
       "<Figure size 432x288 with 1 Axes>"
      ]
     },
     "metadata": {
      "needs_background": "light"
     },
     "output_type": "display_data"
    }
   ],
   "source": [
    "data.groupby('Order_Item_Quantity')['Order_Item_Total'].mean().plot(kind = 'bar')"
   ]
  },
  {
   "cell_type": "code",
   "execution_count": 38,
   "id": "4e918425-e1f3-41d3-ad92-4b3c7c08fe96",
   "metadata": {},
   "outputs": [
    {
     "data": {
      "text/plain": [
       "<AxesSubplot:xlabel='Order_Item_Quantity'>"
      ]
     },
     "execution_count": 38,
     "metadata": {},
     "output_type": "execute_result"
    },
    {
     "data": {
      "image/png": "[encoded data removed]",
      "text/plain": [
       "<Figure size 432x288 with 1 Axes>"
      ]
     },
     "metadata": {
      "needs_background": "light"
     },
     "output_type": "display_data"
    }
   ],
   "source": [
    "data.groupby('Order_Item_Quantity')['Order_Item_Profit_Ratio'].mean().plot(kind = 'bar')"
   ]
  },
  {
   "cell_type": "code",
   "execution_count": 39,
   "id": "8ccaab1e-23dc-4826-a695-67767202d96c",
   "metadata": {},
   "outputs": [],
   "source": [
    "sql_query = \"\"\"SELECT [dbo].[ShippingData].Order_Id, Delivery_Status, Shipping_Mode, shipping_date_DateOrders, \n",
    "Category_Id, Category_Name, Product_Category_Id, Product_Price\n",
    "FROM[dbo].[ShippingData] LEFT JOIN [dbo].[ProductData]\n",
    "ON [dbo].[ShippingData].Order_Id = [dbo].[ProductData].[Product_Category_Id]\"\"\""
   ]
  },
  {
   "cell_type": "code",
   "execution_count": 41,
   "id": "7c8de2e6-bc74-4dac-8b24-460ce22f9c36",
   "metadata": {},
   "outputs": [
    {
     "data": {
      "text/plain": [
       "'SELECT [dbo].[ShippingData].Order_Id, Delivery_Status, Shipping_Mode, shipping_date_DateOrders, \\nCategory_Id, Category_Name, Product_Category_Id, Product_Price\\nFROM[dbo].[ShippingData] LEFT JOIN [dbo].[ProductData]\\nON [dbo].[ShippingData].Order_Id = [dbo].[ProductData].[Product_Category_Id]'"
      ]
     },
     "execution_count": 41,
     "metadata": {},
     "output_type": "execute_result"
    }
   ],
   "source": [
    "sql_query"
   ]
  },
  {
   "cell_type": "code",
   "execution_count": 42,
   "id": "933f0d8e-9053-42d0-9fde-5f5c86f09d1e",
   "metadata": {},
   "outputs": [
    {
     "data": {
      "text/plain": [
       "<function Connection.close>"
      ]
     },
     "execution_count": 42,
     "metadata": {},
     "output_type": "execute_result"
    }
   ],
   "source": [
    "data = pd.read_sql(sql=sql_query, con=cnxn)\n",
    "cnxn.close"
   ]
  },
  {
   "cell_type": "code",
   "execution_count": 43,
   "id": "c8ffeea2-ec3e-411c-bf89-132fb1b0dea5",
   "metadata": {},
   "outputs": [
    {
     "data": {
      "text/html": [
       "<div>\n",
       "<style scoped>\n",
       "    .dataframe tbody tr th:only-of-type {\n",
       "        vertical-align: middle;\n",
       "    }\n",
       "\n",
       "    .dataframe tbody tr th {\n",
       "        vertical-align: top;\n",
       "    }\n",
       "\n",
       "    .dataframe thead th {\n",
       "        text-align: right;\n",
       "    }\n",
       "</style>\n",
       "<table border=\"1\" class=\"dataframe\">\n",
       "  <thead>\n",
       "    <tr style=\"text-align: right;\">\n",
       "      <th></th>\n",
       "      <th>Order_Id</th>\n",
       "      <th>Delivery_Status</th>\n",
       "      <th>Shipping_Mode</th>\n",
       "      <th>shipping_date_DateOrders</th>\n",
       "      <th>Category_Id</th>\n",
       "      <th>Category_Name</th>\n",
       "      <th>Product_Category_Id</th>\n",
       "      <th>Product_Price</th>\n",
       "    </tr>\n",
       "  </thead>\n",
       "  <tbody>\n",
       "    <tr>\n",
       "      <th>0</th>\n",
       "      <td>6723</td>\n",
       "      <td>Shipping on time</td>\n",
       "      <td>Standard Class</td>\n",
       "      <td>2015-04-13 03:00:00</td>\n",
       "      <td>NaN</td>\n",
       "      <td>None</td>\n",
       "      <td>None</td>\n",
       "      <td>NaN</td>\n",
       "    </tr>\n",
       "    <tr>\n",
       "      <th>1</th>\n",
       "      <td>53507</td>\n",
       "      <td>Advance shipping</td>\n",
       "      <td>Standard Class</td>\n",
       "      <td>2017-02-23 01:32:00</td>\n",
       "      <td>NaN</td>\n",
       "      <td>None</td>\n",
       "      <td>None</td>\n",
       "      <td>NaN</td>\n",
       "    </tr>\n",
       "    <tr>\n",
       "      <th>2</th>\n",
       "      <td>59327</td>\n",
       "      <td>Advance shipping</td>\n",
       "      <td>Standard Class</td>\n",
       "      <td>2017-05-19 00:32:00</td>\n",
       "      <td>NaN</td>\n",
       "      <td>None</td>\n",
       "      <td>None</td>\n",
       "      <td>NaN</td>\n",
       "    </tr>\n",
       "    <tr>\n",
       "      <th>3</th>\n",
       "      <td>335</td>\n",
       "      <td>Late delivery</td>\n",
       "      <td>Standard Class</td>\n",
       "      <td>2015-01-11 21:00:00</td>\n",
       "      <td>NaN</td>\n",
       "      <td>None</td>\n",
       "      <td>None</td>\n",
       "      <td>NaN</td>\n",
       "    </tr>\n",
       "    <tr>\n",
       "      <th>4</th>\n",
       "      <td>132</td>\n",
       "      <td>Advance shipping</td>\n",
       "      <td>Standard Class</td>\n",
       "      <td>2015-01-05 21:53:00</td>\n",
       "      <td>NaN</td>\n",
       "      <td>None</td>\n",
       "      <td>None</td>\n",
       "      <td>NaN</td>\n",
       "    </tr>\n",
       "  </tbody>\n",
       "</table>\n",
       "</div>"
      ],
      "text/plain": [
       "  Order_Id   Delivery_Status   Shipping_Mode shipping_date_DateOrders  \\\n",
       "0     6723  Shipping on time  Standard Class      2015-04-13 03:00:00   \n",
       "1    53507  Advance shipping  Standard Class      2017-02-23 01:32:00   \n",
       "2    59327  Advance shipping  Standard Class      2017-05-19 00:32:00   \n",
       "3      335     Late delivery  Standard Class      2015-01-11 21:00:00   \n",
       "4      132  Advance shipping  Standard Class      2015-01-05 21:53:00   \n",
       "\n",
       "   Category_Id Category_Name Product_Category_Id  Product_Price  \n",
       "0          NaN          None                None            NaN  \n",
       "1          NaN          None                None            NaN  \n",
       "2          NaN          None                None            NaN  \n",
       "3          NaN          None                None            NaN  \n",
       "4          NaN          None                None            NaN  "
      ]
     },
     "execution_count": 43,
     "metadata": {},
     "output_type": "execute_result"
    }
   ],
   "source": [
    "data.head()"
   ]
  },
  {
   "cell_type": "code",
   "execution_count": 44,
   "id": "bd5cd5a8-088b-4d7e-8ba8-7d1b13fa001b",
   "metadata": {},
   "outputs": [
    {
     "data": {
      "text/plain": [
       "['Order_Id',\n",
       " 'Delivery_Status',\n",
       " 'Shipping_Mode',\n",
       " 'shipping_date_DateOrders',\n",
       " 'Category_Id',\n",
       " 'Category_Name',\n",
       " 'Product_Category_Id',\n",
       " 'Product_Price']"
      ]
     },
     "execution_count": 44,
     "metadata": {},
     "output_type": "execute_result"
    }
   ],
   "source": [
    "list(data.columns)"
   ]
  },
  {
   "cell_type": "code",
   "execution_count": 45,
   "id": "abcaaed8-36d9-451a-9e9e-903098d0fe2c",
   "metadata": {},
   "outputs": [
    {
     "data": {
      "text/plain": [
       "Order_Id                            object\n",
       "Delivery_Status                     object\n",
       "Shipping_Mode                       object\n",
       "shipping_date_DateOrders    datetime64[ns]\n",
       "Category_Id                        float64\n",
       "Category_Name                       object\n",
       "Product_Category_Id                 object\n",
       "Product_Price                      float64\n",
       "dtype: object"
      ]
     },
     "execution_count": 45,
     "metadata": {},
     "output_type": "execute_result"
    }
   ],
   "source": [
    "data.dtypes"
   ]
  },
  {
   "cell_type": "code",
   "execution_count": 46,
   "id": "a4c386ba-ccde-479d-8ad9-76d0bcfe98ee",
   "metadata": {},
   "outputs": [
    {
     "data": {
      "text/plain": [
       "<AxesSubplot:xlabel='Delivery_Status'>"
      ]
     },
     "execution_count": 46,
     "metadata": {},
     "output_type": "execute_result"
    },
    {
     "data": {
      "image/png": "[encoded data removed]",
      "text/plain": [
       "<Figure size 432x288 with 1 Axes>"
      ]
     },
     "metadata": {
      "needs_background": "light"
     },
     "output_type": "display_data"
    }
   ],
   "source": [
    "data.groupby('Delivery_Status')['Product_Price'].mean().plot(kind = 'bar')"
   ]
  },
  {
   "cell_type": "code",
   "execution_count": 47,
   "id": "1ea025e2-a5c9-4128-90bd-a77726e1c974",
   "metadata": {},
   "outputs": [
    {
     "data": {
      "text/plain": [
       "<AxesSubplot:xlabel='Shipping_Mode'>"
      ]
     },
     "execution_count": 47,
     "metadata": {},
     "output_type": "execute_result"
    },
    {
     "data": {
      "image/png": "[encoded data removed]",
      "text/plain": [
       "<Figure size 432x288 with 1 Axes>"
      ]
     },
     "metadata": {
      "needs_background": "light"
     },
     "output_type": "display_data"
    }
   ],
   "source": [
    "data.groupby('Shipping_Mode')['Product_Price'].mean().plot(kind = 'bar')"
   ]
  },
  {
   "cell_type": "code",
   "execution_count": 48,
   "id": "6268b9d1-c4f4-4b2d-85c3-3cfa676d4818",
   "metadata": {},
   "outputs": [
    {
     "data": {
      "text/plain": [
       "<AxesSubplot:xlabel='Category_Name'>"
      ]
     },
     "execution_count": 48,
     "metadata": {},
     "output_type": "execute_result"
    },
    {
     "data": {
      "image/png": "[encoded data removed]",
      "text/plain": [
       "<Figure size 432x288 with 1 Axes>"
      ]
     },
     "metadata": {
      "needs_background": "light"
     },
     "output_type": "display_data"
    }
   ],
   "source": [
    "data.groupby('Category_Name')['Product_Price'].mean().plot(kind = 'bar')"
   ]
  },
  {
   "cell_type": "code",
   "execution_count": 49,
   "id": "047f59fe-f8b2-4905-a6f3-198a33471842",
   "metadata": {},
   "outputs": [],
   "source": [
    "sql_query = \"\"\"SELECT OrderData.Order_Region,\n",
    "    ROUND(OrderData.Sales,0) AS Rounded_Sales,\n",
    "    OrderData.Order_Item_Profit_Ratio,\n",
    "    ShippingData.Order_Id,\n",
    "    ShippingData.Days_for_shipping_real,\n",
    "    ShippingData.Days_for_shipment_scheduled\n",
    "\n",
    "FROM OrderData\n",
    "    LEFT JOIN ShippingData\n",
    "        ON OrderData.Order_Id = ShippingData.Order_Id\"\"\""
   ]
  },
  {
   "cell_type": "code",
   "execution_count": 50,
   "id": "1400421a-8e5c-4833-ae98-ba46bbc5e9b2",
   "metadata": {},
   "outputs": [
    {
     "data": {
      "text/plain": [
       "'SELECT OrderData.Order_Region,\\n    ROUND(OrderData.Sales,0) AS Rounded_Sales,\\n    OrderData.Order_Item_Profit_Ratio,\\n    ShippingData.Order_Id,\\n    ShippingData.Days_for_shipping_real,\\n    ShippingData.Days_for_shipment_scheduled\\n\\nFROM OrderData\\n    LEFT JOIN ShippingData\\n        ON OrderData.Order_Id = ShippingData.Order_Id'"
      ]
     },
     "execution_count": 50,
     "metadata": {},
     "output_type": "execute_result"
    }
   ],
   "source": [
    "sql_query"
   ]
  },
  {
   "cell_type": "code",
   "execution_count": 51,
   "id": "abc431c4-1be1-4854-91dc-b8916bfe1c85",
   "metadata": {},
   "outputs": [
    {
     "data": {
      "text/plain": [
       "<function Connection.close>"
      ]
     },
     "execution_count": 51,
     "metadata": {},
     "output_type": "execute_result"
    }
   ],
   "source": [
    "data = pd.read_sql(sql=sql_query, con=cnxn)\n",
    "cnxn.close"
   ]
  },
  {
   "cell_type": "code",
   "execution_count": 52,
   "id": "801efb76-eec3-443d-bbc8-65a343f3effa",
   "metadata": {},
   "outputs": [
    {
     "data": {
      "text/html": [
       "<div>\n",
       "<style scoped>\n",
       "    .dataframe tbody tr th:only-of-type {\n",
       "        vertical-align: middle;\n",
       "    }\n",
       "\n",
       "    .dataframe tbody tr th {\n",
       "        vertical-align: top;\n",
       "    }\n",
       "\n",
       "    .dataframe thead th {\n",
       "        text-align: right;\n",
       "    }\n",
       "</style>\n",
       "<table border=\"1\" class=\"dataframe\">\n",
       "  <thead>\n",
       "    <tr style=\"text-align: right;\">\n",
       "      <th></th>\n",
       "      <th>Order_Region</th>\n",
       "      <th>Rounded_Sales</th>\n",
       "      <th>Order_Item_Profit_Ratio</th>\n",
       "      <th>Order_Id</th>\n",
       "      <th>Days_for_shipping_real</th>\n",
       "      <th>Days_for_shipment_scheduled</th>\n",
       "    </tr>\n",
       "  </thead>\n",
       "  <tbody>\n",
       "    <tr>\n",
       "      <th>0</th>\n",
       "      <td>Eastern Asia</td>\n",
       "      <td>328.0</td>\n",
       "      <td>-1.33</td>\n",
       "      <td>75906</td>\n",
       "      <td>2</td>\n",
       "      <td>1</td>\n",
       "    </tr>\n",
       "    <tr>\n",
       "      <th>1</th>\n",
       "      <td>Eastern Asia</td>\n",
       "      <td>328.0</td>\n",
       "      <td>0.30</td>\n",
       "      <td>75913</td>\n",
       "      <td>4</td>\n",
       "      <td>4</td>\n",
       "    </tr>\n",
       "    <tr>\n",
       "      <th>2</th>\n",
       "      <td>Western Europe</td>\n",
       "      <td>452.0</td>\n",
       "      <td>0.26</td>\n",
       "      <td>69424</td>\n",
       "      <td>0</td>\n",
       "      <td>0</td>\n",
       "    </tr>\n",
       "    <tr>\n",
       "      <th>3</th>\n",
       "      <td>Eastern Asia</td>\n",
       "      <td>328.0</td>\n",
       "      <td>0.33</td>\n",
       "      <td>75934</td>\n",
       "      <td>2</td>\n",
       "      <td>1</td>\n",
       "    </tr>\n",
       "    <tr>\n",
       "      <th>4</th>\n",
       "      <td>Northern Europe</td>\n",
       "      <td>240.0</td>\n",
       "      <td>-0.77</td>\n",
       "      <td>62314</td>\n",
       "      <td>5</td>\n",
       "      <td>4</td>\n",
       "    </tr>\n",
       "  </tbody>\n",
       "</table>\n",
       "</div>"
      ],
      "text/plain": [
       "      Order_Region  Rounded_Sales  Order_Item_Profit_Ratio Order_Id  \\\n",
       "0     Eastern Asia          328.0                    -1.33    75906   \n",
       "1     Eastern Asia          328.0                     0.30    75913   \n",
       "2   Western Europe          452.0                     0.26    69424   \n",
       "3     Eastern Asia          328.0                     0.33    75934   \n",
       "4  Northern Europe          240.0                    -0.77    62314   \n",
       "\n",
       "   Days_for_shipping_real  Days_for_shipment_scheduled  \n",
       "0                       2                            1  \n",
       "1                       4                            4  \n",
       "2                       0                            0  \n",
       "3                       2                            1  \n",
       "4                       5                            4  "
      ]
     },
     "execution_count": 52,
     "metadata": {},
     "output_type": "execute_result"
    }
   ],
   "source": [
    "data.head()"
   ]
  },
  {
   "cell_type": "code",
   "execution_count": 53,
   "id": "0ff46eb6-94cb-4e93-b90e-2ecc91a1dcc1",
   "metadata": {},
   "outputs": [
    {
     "data": {
      "text/plain": [
       "['Order_Region',\n",
       " 'Rounded_Sales',\n",
       " 'Order_Item_Profit_Ratio',\n",
       " 'Order_Id',\n",
       " 'Days_for_shipping_real',\n",
       " 'Days_for_shipment_scheduled']"
      ]
     },
     "execution_count": 53,
     "metadata": {},
     "output_type": "execute_result"
    }
   ],
   "source": [
    "list(data.columns)"
   ]
  },
  {
   "cell_type": "code",
   "execution_count": 54,
   "id": "b8ca1070-c54d-412b-b263-f9e24ee73ca2",
   "metadata": {},
   "outputs": [
    {
     "data": {
      "text/plain": [
       "Order_Region                    object\n",
       "Rounded_Sales                  float64\n",
       "Order_Item_Profit_Ratio        float64\n",
       "Order_Id                        object\n",
       "Days_for_shipping_real           int64\n",
       "Days_for_shipment_scheduled      int64\n",
       "dtype: object"
      ]
     },
     "execution_count": 54,
     "metadata": {},
     "output_type": "execute_result"
    }
   ],
   "source": [
    "data.dtypes"
   ]
  },
  {
   "cell_type": "code",
   "execution_count": 55,
   "id": "5345673e-d074-4a94-a546-d85ea6c1197f",
   "metadata": {},
   "outputs": [
    {
     "data": {
      "text/plain": [
       "<AxesSubplot:xlabel='Order_Region'>"
      ]
     },
     "execution_count": 55,
     "metadata": {},
     "output_type": "execute_result"
    },
    {
     "data": {
      "image/png": "[encoded data removed]",
      "text/plain": [
       "<Figure size 432x288 with 1 Axes>"
      ]
     },
     "metadata": {
      "needs_background": "light"
     },
     "output_type": "display_data"
    }
   ],
   "source": [
    "data.groupby('Order_Region')['Days_for_shipment_scheduled'].mean().plot(kind = 'bar')"
   ]
  },
  {
   "cell_type": "code",
   "execution_count": 56,
   "id": "78ae6fd8-021c-41fa-b236-e3e55a9c116b",
   "metadata": {},
   "outputs": [
    {
     "data": {
      "text/plain": [
       "<AxesSubplot:xlabel='Order_Region'>"
      ]
     },
     "execution_count": 56,
     "metadata": {},
     "output_type": "execute_result"
    },
    {
     "data": {
      "image/png": "[encoded data removed]",
      "text/plain": [
       "<Figure size 432x288 with 1 Axes>"
      ]
     },
     "metadata": {
      "needs_background": "light"
     },
     "output_type": "display_data"
    }
   ],
   "source": [
    "data.groupby('Order_Region')['Days_for_shipping_real'].mean().plot(kind = 'bar')"
   ]
  },
  {
   "cell_type": "code",
   "execution_count": 57,
   "id": "5eec9d62-ebc5-472c-a96d-0cd483cfc660",
   "metadata": {},
   "outputs": [
    {
     "data": {
      "text/plain": [
       "<AxesSubplot:xlabel='Order_Region'>"
      ]
     },
     "execution_count": 57,
     "metadata": {},
     "output_type": "execute_result"
    },
    {
     "data": {
      "image/png": "[encoded data removed]",
      "text/plain": [
       "<Figure size 432x288 with 1 Axes>"
      ]
     },
     "metadata": {
      "needs_background": "light"
     },
     "output_type": "display_data"
    }
   ],
   "source": [
    "data.groupby('Order_Region')['Order_Item_Profit_Ratio'].mean().plot(kind = 'bar')"
   ]
  },
  {
   "cell_type": "code",
   "execution_count": 58,
   "id": "9fc4669f-ee68-490c-ba5e-e1106c8c51c7",
   "metadata": {},
   "outputs": [
    {
     "data": {
      "text/plain": [
       "<AxesSubplot:xlabel='Order_Region'>"
      ]
     },
     "execution_count": 58,
     "metadata": {},
     "output_type": "execute_result"
    },
    {
     "data": {
      "image/png": "[encoded data removed]",
      "text/plain": [
       "<Figure size 432x288 with 1 Axes>"
      ]
     },
     "metadata": {
      "needs_background": "light"
     },
     "output_type": "display_data"
    }
   ],
   "source": [
    "data.groupby('Order_Region')['Rounded_Sales'].mean().plot(kind = 'bar')"
   ]
  }
 ],
 "metadata": {
  "kernelspec": {
   "display_name": "Python 3 (ipykernel)",
   "language": "python",
   "name": "python3"
  },
  "language_info": {
   "codemirror_mode": {
    "name": "ipython",
    "version": 3
   },
   "file_extension": ".py",
   "mimetype": "text/x-python",
   "name": "python",
   "nbconvert_exporter": "python",
   "pygments_lexer": "ipython3",
   "version": "3.9.7"
  }
 },
 "nbformat": 4,
 "nbformat_minor": 5
}
